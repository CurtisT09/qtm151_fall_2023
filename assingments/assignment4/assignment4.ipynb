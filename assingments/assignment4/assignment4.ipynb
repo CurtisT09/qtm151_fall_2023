{
 "cells": [
  {
   "attachments": {},
   "cell_type": "markdown",
   "metadata": {},
   "source": [
    "# Assignment 4"
   ]
  },
  {
   "attachments": {},
   "cell_type": "markdown",
   "metadata": {},
   "source": [
    "## Try to submit as an HTML file"
   ]
  },
  {
   "attachments": {},
   "cell_type": "markdown",
   "metadata": {},
   "source": [
    "<font size = \"5\">\n",
    "Print your Emory ID below"
   ]
  },
  {
   "cell_type": "code",
   "execution_count": null,
   "metadata": {},
   "outputs": [],
   "source": [
    "# Write down your answer here:2579381\n"
   ]
  },
  {
   "attachments": {},
   "cell_type": "markdown",
   "metadata": {},
   "source": [
    "<font size = \"5\">\n",
    "\n",
    "Import the numpy, matplotlib, and pandas packages"
   ]
  },
  {
   "cell_type": "code",
   "execution_count": 11,
   "metadata": {},
   "outputs": [],
   "source": [
    "# Write down your answer here:\n",
    "import numpy as np\n",
    "import matplotlib.pyplot as plt\n",
    "import pandas as pd"
   ]
  },
  {
   "attachments": {},
   "cell_type": "markdown",
   "metadata": {},
   "source": [
    "<font size = \"5\">\n",
    "\n",
    "(a) Create a sequence \n",
    "\n",
    "- Create a value $n = 42$\n",
    "- Create a list with the values $0,1,\\ldots, n$\n",
    "- Count the length of the list"
   ]
  },
  {
   "cell_type": "code",
   "execution_count": 5,
   "metadata": {},
   "outputs": [
    {
     "data": {
      "text/plain": [
       "43"
      ]
     },
     "execution_count": 5,
     "metadata": {},
     "output_type": "execute_result"
    }
   ],
   "source": [
    "# Write your own code\n",
    "n=42\n",
    "list_zero_ten = list(range(n+1))\n",
    "len(list_zero_ten)\n"
   ]
  },
  {
   "attachments": {},
   "cell_type": "markdown",
   "metadata": {},
   "source": [
    "<font size = \"5\">\n",
    "\n",
    "(b) Counting True/False statements in a list\n",
    "\n",
    "- Create\n",
    "list_age = [58, 23, 63, 18, 76, 35, 48, 68]\n",
    "- Create an empty list \"list_eligible_retire\"\n",
    "- Use a for-loop without numbering\n",
    "    - Determine whether the age is $\\ge 65$\n",
    "    - Store the True/False result in \"list_eligible_retire\"\n",
    "- Use \"np.sum()\" to count how many workers are eligible for retirement\n",
    "\n",
    "Hint: Use the \"append\" function."
   ]
  },
  {
   "cell_type": "code",
   "execution_count": 12,
   "metadata": {},
   "outputs": [
    {
     "data": {
      "text/plain": [
       "2"
      ]
     },
     "execution_count": 12,
     "metadata": {},
     "output_type": "execute_result"
    }
   ],
   "source": [
    "# Write your own code\n",
    "list_age=[58,23,63,18,76,35,48,68]\n",
    "list_eligible_retire=[]\n",
    "for x in list_age:\n",
    "    if x>=65:\n",
    "        list_eligible_retire.append(True)\n",
    "    else:\n",
    "        list_eligible_retire.append(False)\n",
    "np.sum(list_eligible_retire)\n"
   ]
  },
  {
   "attachments": {},
   "cell_type": "markdown",
   "metadata": {},
   "source": [
    "<font size = \"5\">\n",
    "\n",
    "(c) Graphs from multiple datasets\n",
    "\n",
    "- Create a list with the two \"DF Open\" datasets for 2022, and 2023\n",
    "- Run a for-loop over each dataset \n",
    "    - Compute a histogram of \"overallScore\" for each year\n",
    "    - Label the title with the name of the dataset\n",
    "\n",
    "Note: the dataset showcases the data from the 2022 and 2023 crossfit games"
   ]
  },
  {
   "cell_type": "code",
   "execution_count": 36,
   "metadata": {},
   "outputs": [
    {
     "data": {
      "image/png": "[encoded data removed]",
      "text/plain": [
       "<Figure size 1000x300 with 2 Axes>"
      ]
     },
     "metadata": {},
     "output_type": "display_data"
    }
   ],
   "source": [
    "# Note \"overallScore\" is the final score each candidate achieved\n",
    "\n",
    "# Hint: Before you write the loop, test your code out by opening an individual dataset\n",
    "# Once you're sure the code works and you're familiar with the data, run the loop\n",
    "open_2022 =pd.read_csv(\"data/df_open_2022.csv\")\n",
    "open_2023=pd.read_csv(\"data/df_open_2023.csv\")\n",
    "datasets=[open_2022,open_2023]\n",
    "fig, list_subfig = plt.subplots(1, 2, figsize = (10,3))\n",
    "plt.tight_layout\n",
    "x=2022\n",
    "count=0\n",
    "for year in datasets:\n",
    "    list_subfig[count].hist(x = year[\"overallScore\"])\n",
    "    list_subfig[count].set_title(\"Histogram of overallScore for DF Open\"+str(x))\n",
    "    x=x+1\n",
    "    count=count+1\n",
    "    \n",
    "   \n"
   ]
  },
  {
   "cell_type": "markdown",
   "metadata": {},
   "source": [
    "<font size = \"5\">\n",
    "\n",
    "For questions (d) and (e), use the following table:\n",
    "\n",
    "<img src=\"figures/grade_scale.png\" alt=\"500\" width=\"200\"/>\n",
    "\n",
    "(d) Loops with multiple lists\n",
    "\n",
    "<font size =\"3\">\n",
    "- Create three lists\n",
    "\n",
    "list_lower = [93, 90, 87, 83, 80, 77, 73, 70, 67, 63, 60, 0]\n",
    "\n",
    "list_upper = [100, 92, 89, 86, 82, 79, 76, 72, 69, 66, 62, 59]\n",
    "\n",
    "list_letters = [\"A\",\"A-\",\"B+\",\"B\",\"B-\",\"C+\",\"C\",\"C-\",\"D+\",\"D\",\"D-\",\"F\"]\n",
    "\n",
    "- Create a for loop that prints the message:\n",
    "\n",
    "\"If a students gets a grade between .... and ..., their letter grade is ...\""
   ]
  },
  {
   "cell_type": "code",
   "execution_count": 34,
   "metadata": {},
   "outputs": [
    {
     "name": "stdout",
     "output_type": "stream",
     "text": [
      "If a student gets a grade between 93 and 100 their letter grade is A\n",
      "If a student gets a grade between 90 and 92 their letter grade is A-\n",
      "If a student gets a grade between 87 and 89 their letter grade is B+\n",
      "If a student gets a grade between 83 and 86 their letter grade is B\n",
      "If a student gets a grade between 80 and 82 their letter grade is B-\n",
      "If a student gets a grade between 77 and 79 their letter grade is C+\n",
      "If a student gets a grade between 73 and 76 their letter grade is C\n",
      "If a student gets a grade between 70 and 72 their letter grade is C-\n",
      "If a student gets a grade between 67 and 69 their letter grade is D+\n",
      "If a student gets a grade between 63 and 66 their letter grade is D\n",
      "If a student gets a grade between 60 and 62 their letter grade is D-\n",
      "If a student gets a grade between 0 and 59 their letter grade is F\n"
     ]
    }
   ],
   "source": [
    "# Hint: Use a for-loop with numbering \n",
    "# Start the index at zero\n",
    "# In the body of the loop, extract the elements in each list by the index position\n",
    "list_lower = [93, 90, 87, 83, 80, 77, 73, 70, 67, 63, 60, 0]\n",
    "list_upper = [100, 92, 89, 86, 82, 79, 76, 72, 69, 66, 62, 59]\n",
    "list_letters = [\"A\",\"A-\",\"B+\",\"B\",\"B-\",\"C+\",\"C\",\"C-\",\"D+\",\"D\",\"D-\",\"F\"]\n",
    "count=0\n",
    "\n",
    "\n",
    "for i in range(len(list_letters)):\n",
    "    lower_bound = list_lower[i]\n",
    "    upper_bound = list_upper[i]\n",
    "    letter_grade = list_letters[i]\n",
    "    message = \"If a student gets a grade between \" + str(lower_bound) + \" and \" + str(upper_bound)+  \" their letter grade is \" + str(letter_grade)\n",
    "    print(message)\n",
    "\n"
   ]
  },
  {
   "attachments": {},
   "cell_type": "markdown",
   "metadata": {},
   "source": [
    "<font size = \"5\" >\n",
    "\n",
    "(e) Classification with double loops\n",
    "\n",
    "<font size =\"3\">\n",
    "\n",
    "- Suppose that 7 students get the following grades:\n",
    "\n",
    "list_studentgrades = [84, 62, 92, 74, 97, 80, 79]\n",
    "\n",
    "- Print the following message:\n",
    "\n",
    "\"The student got a numeric grade of .... and their letter grade was ...\"\n"
   ]
  },
  {
   "cell_type": "code",
   "execution_count": 33,
   "metadata": {},
   "outputs": [
    {
     "name": "stdout",
     "output_type": "stream",
     "text": [
      "The student got a numeric grade of 84 and their letter grade was B\n",
      "The student got a numeric grade of 62 and their letter grade was D-\n",
      "The student got a numeric grade of 92 and their letter grade was A-\n",
      "The student got a numeric grade of 74 and their letter grade was C\n",
      "The student got a numeric grade of 97 and their letter grade was A\n",
      "The student got a numeric grade of 80 and their letter grade was B-\n",
      "The student got a numeric grade of 79 and their letter grade was C+\n"
     ]
    }
   ],
   "source": [
    "#(a) Hint: Use a double for loop structure:\n",
    "#---- for studentgrade in list_studentgrades:\n",
    "#----     index = 0\n",
    "#----     for letter in list_letters:\n",
    "#----          Body\n",
    "#----          index = index + 1\n",
    "\n",
    "# (b) Inside the body, use an if/else statement to print the correct letter grade.\n",
    "# You can make your code more concise by doing similar steps to question (d).\n",
    "list_studentgrades = [84, 62, 92, 74, 97, 80, 79]\n",
    "for studentgrade in list_studentgrades:\n",
    "    index =0\n",
    "    for i in range(len(list_letters)):\n",
    "        lower_bound = list_lower[i]\n",
    "        upper_bound = list_upper[i]\n",
    "        letter_grade = list_letters[i]\n",
    "        if lower_bound<=studentgrade<=upper_bound:\n",
    "            print(\"The student got a numeric grade of \" + str(studentgrade)+\" and their letter grade was \"+ letter_grade)\n",
    "    index=index+1\n",
    "\n",
    "\n"
   ]
  }
 ],
 "metadata": {
  "kernelspec": {
   "display_name": "base",
   "language": "python",
   "name": "python3"
  },
  "language_info": {
   "codemirror_mode": {
    "name": "ipython",
    "version": 3
   },
   "file_extension": ".py",
   "mimetype": "text/x-python",
   "name": "python",
   "nbconvert_exporter": "python",
   "pygments_lexer": "ipython3",
   "version": "3.11.4"
  },
  "orig_nbformat": 4,
  "vscode": {
   "interpreter": {
    "hash": "45fc1f684f6f416f40889115beff3ddf69879b64cf4bfee48cb72a61e9d15d1a"
   }
  }
 },
 "nbformat": 4,
 "nbformat_minor": 2
}
